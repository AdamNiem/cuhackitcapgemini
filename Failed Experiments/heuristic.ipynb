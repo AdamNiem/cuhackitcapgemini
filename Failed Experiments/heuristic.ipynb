{
 "cells": [
  {
   "cell_type": "code",
   "execution_count": 1,
   "id": "71cadc05-efd2-403e-9aba-cf91db5e44bb",
   "metadata": {
    "tags": []
   },
   "outputs": [],
   "source": [
    "import pandas as pd"
   ]
  },
  {
   "cell_type": "code",
   "execution_count": 2,
   "id": "55b74b57-c386-4323-9dcf-66f95decaa9a",
   "metadata": {
    "tags": []
   },
   "outputs": [
    {
     "name": "stdout",
     "output_type": "stream",
     "text": [
      "Initial NaT count: 0\n"
     ]
    }
   ],
   "source": [
    "import pandas as pd\n",
    "\n",
    "# Read the Excel file as strings to avoid DateParseError\n",
    "#df = pd.read_excel('Train/Belt 1 9 Months negative data.xlsx', dtype=str)\n",
    "df = pd.read_excel('Train/Belt 1 9 Months negative data.xlsx')\n",
    "# Convert 'Timestamp' to datetime, invalid dates will be set to NaT\n",
    "df['Timestamp'] = pd.to_datetime(df['Timestamp'], errors='coerce') \n",
    "\n",
    "# Drop rows where the 'Timestamp' is NaT (invalid date)\n",
    "df.dropna(subset=['Timestamp'], inplace=True)\n",
    "\n",
    "\n",
    "# Check initial NaT count in the Timestamp column (this counts blank/missing values)\n",
    "print(\"Initial NaT count:\", df['Timestamp'].isna().sum())\n",
    "\n",
    "train_cols = [\n",
    "    \"Vibration Frequency\",\n",
    "    \"Vibration Amplitude\",\n",
    "    \"Bearing Temperature\",\n",
    "    \"Motor Temperature\",\n",
    "    \"Belt Load\",\n",
    "    \"Torque\",\n",
    "    \"Noise Levels\",\n",
    "    \"Current and Voltage\",\n",
    "    \"Hydraulic Pressure\",\n",
    "    \"Belt Thickness\",\n",
    "    \"Roller Condition\",  # Removed due to -1 correlation\n",
    "]\n",
    "\n",
    "# Convert train_cols from string to float safely\n",
    "#df[train_cols] = df[train_cols].apply(pd.to_numeric, errors='coerce')\n",
    "\n",
    "# Replace invalid date entry in Timestamp before converting\n",
    "#df['Timestamp'] = df['Timestamp'].str.replace('2/29/2026', '3/1/2026', regex=False)\n",
    "\n",
    "# Convert Timestamp column to datetime, invalid parses become NaT\n",
    "#df['Timestamp'] = pd.to_datetime(df['Timestamp'], errors='coerce')\n",
    "\n",
    "# Shift only the valid timestamps (ignore NaT) that are on or after 2026-03-01\n",
    "#df.loc[df['Timestamp'].notna() & (df['Timestamp'] >= pd.Timestamp('2026-03-01')), 'Timestamp'] += pd.Timedelta(days=1)\n"
   ]
  },
  {
   "cell_type": "code",
   "execution_count": null,
   "id": "dada6eac-043d-4918-adec-a213faed9287",
   "metadata": {},
   "outputs": [],
   "source": [
    "# If VF and CV out of range then intermittent overload in around 5 days\n",
    "# If Bearing Temp and HP outh of range -> environmental impact so goes down in around 12 days\n",
    "# If VA and Noise out of range -> irregular vibrations goes down in 9 days\n",
    "\n",
    "# If VF and CV out of range -> IO then brakes in 5 days\n",
    "# BT and HP -> EI -> Breaks in 12 days\n",
    "# If VA and Noise -> IV -> Breaks in 9 days\n",
    "\n",
    "# BT HP -> 12\n",
    "# BT HP -> 12"
   ]
  }
 ],
 "metadata": {
  "kernelspec": {
   "display_name": "Python 3 (universal)",
   "language": "python",
   "name": "universal"
  },
  "language_info": {
   "codemirror_mode": {
    "name": "ipython",
    "version": 3
   },
   "file_extension": ".py",
   "mimetype": "text/x-python",
   "name": "python",
   "nbconvert_exporter": "python",
   "pygments_lexer": "ipython3",
   "version": "3.12.5"
  }
 },
 "nbformat": 4,
 "nbformat_minor": 5
}
